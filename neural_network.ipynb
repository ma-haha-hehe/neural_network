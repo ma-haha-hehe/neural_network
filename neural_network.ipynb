{
 "cells": [
  {
   "cell_type": "code",
   "execution_count": 2,
   "id": "2e601238-082e-4de2-9da3-b891d77ea8d5",
   "metadata": {},
   "outputs": [],
   "source": [
    "import torch\n",
    "import torch.nn as nn\n",
    "import numpy as np\n",
    "from torch.utils.data import Dataset, DataLoader\n",
    "device = 'cuda' if torch.cuda.is_available() else 'cpu'"
   ]
  },
  {
   "cell_type": "code",
   "execution_count": 3,
   "id": "ca9b7384-afcd-4d5c-aefb-7c5bcbecbbd8",
   "metadata": {},
   "outputs": [],
   "source": [
    "x = [[1,2],[3,4],[5,6],[7,8]]\n",
    "y = [[3],[7],[11],[15]]"
   ]
  },
  {
   "cell_type": "code",
   "execution_count": 4,
   "id": "213522fe-6c26-4245-9b7f-9cfad58a1a70",
   "metadata": {},
   "outputs": [],
   "source": [
    "class MyDataset(Dataset):\n",
    "    def __init__(self,x,y):\n",
    "        self.x = torch.tensor(x).float().to(device)\n",
    "        self.y = torch.tensor(y).float().to(device)    \n",
    "    def __getitem__(self,ix):\n",
    "        return self.x[ix], self.y[ix] #返回（输入x[ix],标签y[ix]）\n",
    "    def __len__(self):\n",
    "        return len(self.x)"
   ]
  },
  {
   "cell_type": "code",
   "execution_count": 5,
   "id": "4a478e04-8068-42ef-8c97-d87c2ab0c0eb",
   "metadata": {},
   "outputs": [],
   "source": [
    "ds = MyDataset(x,y)\n",
    "dl = DataLoader(ds, batch_size=2,shuffle=True)"
   ]
  },
  {
   "cell_type": "code",
   "execution_count": 6,
   "id": "57634a1e-2e6a-4514-9c7a-cc3ded287a1a",
   "metadata": {},
   "outputs": [],
   "source": [
    "model = nn.Sequential(\n",
    "     nn.Linear(2,8),\n",
    "     nn.ReLU(),\n",
    "     nn.Linear(8,1)\n",
    ").to(device)"
   ]
  },
  {
   "cell_type": "code",
   "execution_count": 7,
   "id": "41734d91-35c8-45d4-ae4d-3b30e2997a8f",
   "metadata": {},
   "outputs": [
    {
     "name": "stdout",
     "output_type": "stream",
     "text": [
      "Collecting torchsummary\n",
      "  Using cached torchsummary-1.5.1-py3-none-any.whl (2.8 kB)\n",
      "Installing collected packages: torchsummary\n",
      "Successfully installed torchsummary-1.5.1\n",
      "Note: you may need to restart the kernel to use updated packages.\n"
     ]
    }
   ],
   "source": [
    "pip install torchsummary"
   ]
  },
  {
   "cell_type": "code",
   "execution_count": 8,
   "id": "b879fb34-ae02-431a-a79b-eefec46c9476",
   "metadata": {},
   "outputs": [],
   "source": [
    "from torchsummary import summary"
   ]
  },
  {
   "cell_type": "code",
   "execution_count": 9,
   "id": "77cf3955-1d7c-43dc-af18-2e592390f3cc",
   "metadata": {},
   "outputs": [
    {
     "name": "stdout",
     "output_type": "stream",
     "text": [
      "----------------------------------------------------------------\n",
      "        Layer (type)               Output Shape         Param #\n",
      "================================================================\n",
      "            Linear-1                    [-1, 8]              24\n",
      "              ReLU-2                    [-1, 8]               0\n",
      "            Linear-3                    [-1, 1]               9\n",
      "================================================================\n",
      "Total params: 33\n",
      "Trainable params: 33\n",
      "Non-trainable params: 0\n",
      "----------------------------------------------------------------\n",
      "Input size (MB): 0.00\n",
      "Forward/backward pass size (MB): 0.00\n",
      "Params size (MB): 0.00\n",
      "Estimated Total Size (MB): 0.00\n",
      "----------------------------------------------------------------\n",
      "None\n"
     ]
    }
   ],
   "source": [
    "print(summary(model,(2,)))"
   ]
  },
  {
   "cell_type": "code",
   "execution_count": 10,
   "id": "1489b6c5-9e84-4b73-ba61-2435c13cea32",
   "metadata": {},
   "outputs": [
    {
     "name": "stdout",
     "output_type": "stream",
     "text": [
      "0.06395101547241211\n"
     ]
    }
   ],
   "source": [
    "loss_func = nn.MSELoss()\n",
    "from torch.optim import SGD\n",
    "opt = SGD(model.parameters(),lr=0.001)\n",
    "import time\n",
    "loss_history = []\n",
    "start = time.time()\n",
    "for _ in range(50):\n",
    "    for ix,iy in dl:\n",
    "        opt.zero_grad()\n",
    "        loss_value = loss_func(model(ix),iy)\n",
    "        loss_value.backward()\n",
    "        opt.step()\n",
    "        loss_history.append(loss_value.item())\n",
    "end = time.time()\n",
    "print(end - start) #打印总耗时"
   ]
  },
  {
   "cell_type": "code",
   "execution_count": 11,
   "id": "e53a5e26-7933-4819-b022-c7d8877088df",
   "metadata": {},
   "outputs": [
    {
     "name": "stdout",
     "output_type": "stream",
     "text": [
      "OrderedDict([('0.weight', tensor([[ 0.3471, -0.3918],\n",
      "        [-0.6378, -0.2221],\n",
      "        [ 0.0506, -0.2210],\n",
      "        [ 0.1915,  1.2942],\n",
      "        [-0.4073, -0.0463],\n",
      "        [ 0.1623, -0.4773],\n",
      "        [-0.1468, -0.2166],\n",
      "        [ 0.2640,  0.3018]])), ('0.bias', tensor([ 0.5660,  0.7022,  0.4778, -0.1066,  0.5828,  0.3719, -0.4980,  0.0587])), ('2.weight', tensor([[-0.0772,  0.2010, -0.2740,  1.1190, -0.0141,  0.3084, -0.1200,  0.3216]])), ('2.bias', tensor([0.3614]))])\n"
     ]
    }
   ],
   "source": [
    "print(model.state_dict())"
   ]
  },
  {
   "cell_type": "code",
   "execution_count": 12,
   "id": "b8b16657-9de3-405f-a782-4653ca36b734",
   "metadata": {},
   "outputs": [],
   "source": [
    "#模型保存\n",
    "save_path = 'mymodel.pth' \n",
    "torch.save(model.state_dict(), save_path)"
   ]
  },
  {
   "cell_type": "code",
   "execution_count": null,
   "id": "594a3454-3d0a-4949-9620-f3714490df63",
   "metadata": {},
   "outputs": [],
   "source": []
  }
 ],
 "metadata": {
  "kernelspec": {
   "display_name": "Python 3 (ipykernel)",
   "language": "python",
   "name": "python3"
  },
  "language_info": {
   "codemirror_mode": {
    "name": "ipython",
    "version": 3
   },
   "file_extension": ".py",
   "mimetype": "text/x-python",
   "name": "python",
   "nbconvert_exporter": "python",
   "pygments_lexer": "ipython3",
   "version": "3.9.7"
  }
 },
 "nbformat": 4,
 "nbformat_minor": 5
}
